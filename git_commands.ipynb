{
 "cells": [
  {
   "cell_type": "markdown",
   "metadata": {},
   "source": [
    "# Working with remotes"
   ]
  },
  {
   "cell_type": "markdown",
   "metadata": {},
   "source": [
    "## How show yout remotes\n",
    "`git remotes` -> shortnames of each remote handle you’ve specified\n",
    "\n",
    "`git remotes -v` -> shortnames of each remote handle you’ve specified + url\n"
   ]
  },
  {
   "cell_type": "markdown",
   "metadata": {},
   "source": [
    "## Fetching and Pulling from Remotes"
   ]
  },
  {
   "cell_type": "markdown",
   "metadata": {},
   "source": [
    "`<remote>` -> is how git refers to the remote repository, ussualy called `origin`. To inspect the names run the commands above.\n",
    "\n",
    "`git fetch <remote> (origin)` -> fetches any new work that has been pushed to that server since you cloned. \n",
    "\n",
    "*`git fetch` don't merge the new data with your local data*\n",
    "\n",
    "`git pull <remote>` -> Command to automatically fetch and then merge that\n",
    " remote branch into your current branch\n",
    "\n",
    " * If you want the default behavior of Git (fast-forward if possible, else create a\n",
    " merge commit): `git config --global pull.rebase \"false\"`*\n",
    "\n",
    "------------------------- Pushing to your remotes---------------------\n",
    "\n",
    "`git push <remote> <branch>`-> This command works only if you cloned from a server to which you have write access and if nobody has pushed in the meantime.\n",
    "\n",
    "\n",
    "------------------------- Inspecting a Remote --------------------\n",
    "\n",
    "`git remote show <remote>` -> This command tells you which remote branch you are in, although you can see which other branches there are.\n",
    "\n",
    "------------------------- Rename a remote repository --------------------\n",
    "\n",
    "`git remote rename <original_remote_name> <new_remote_name>`\n",
    "\n",
    "------------------------- Remove a remote --------------------\n",
    "\n",
    "`git remote remove <remote>`\n"
   ]
  },
  {
   "cell_type": "markdown",
   "metadata": {},
   "source": [
    "#### Tags\n",
    "\n",
    "`git tag` -> List the existing tags in Git ( is like the diferents realise versions of your project)\n",
    "\n",
    "`git tag -l \"v1.8.5*\"` -> Look for all the tags thas contain this version key\n",
    "\n",
    "##### Creating tags\n",
    "\n",
    "`<tagname>` could be for example v1.4.2\n",
    "\n",
    "Exist two types of tags: *lightweight and annotated tags*\n",
    "\n",
    "- lightweight tags are like a branch that never change\n",
    "- Annotated tag is more usseful (you can add a note + more information)\n",
    "\n",
    "`git tag -a <tagname> -m \"my version <tagname> note\"` -> creating a annotated tag\n",
    "\n",
    "`git show <tagname>` -> This show your tag's information\n",
    "\n",
    "`git tag <tagname>-lw` -> This create a lightweight tag\n",
    "\n",
    "`git push origin <tagname>` -> This push the tag to the origin remote \n",
    "\n",
    "`git tag -d <tagname>`-> This delete a tag called v1.4 (remember push the changes `git push origin --delete <tagname>`)\n",
    "\n",
    "`git checkout <tagname>` -> This checkout you to the project to the version when the tag was created. If you want to do a change, you have to create a new branch from the tag:\n",
    "    `git checkout -b <branch_name> <tagname>`\n",
    "\n",
    "\n",
    "\n"
   ]
  },
  {
   "cell_type": "markdown",
   "metadata": {},
   "source": [
    "## Git Aliases"
   ]
  },
  {
   "cell_type": "markdown",
   "metadata": {},
   "source": [
    "\n",
    "If you want to simplify yours commands you can:\n",
    "\n",
    " `$ git config --global alias.co checkout` -> summary `git checkout` to `git co`\n",
    "\n",
    " `$ git config --global alias.br branch`\n",
    "\n",
    " `$ git config --global alias.ci commit`\n",
    "\n",
    "`$ git config --global alias.st status`"
   ]
  },
  {
   "cell_type": "markdown",
   "metadata": {},
   "source": [
    "# Branches"
   ]
  },
  {
   "cell_type": "markdown",
   "metadata": {},
   "source": [
    "![image.png](images/1.png)"
   ]
  },
  {
   "cell_type": "markdown",
   "metadata": {},
   "source": [
    "## Creating and switching between branches"
   ]
  },
  {
   "cell_type": "markdown",
   "metadata": {},
   "source": [
    "`git branch testing` -> We are creating a branch from out master (or main) branch. \n",
    "\n",
    "The command `git log --oneline --decorate` shows a simplified, one-line summary of the Git commit history along with branch and tag decorations. \n",
    "\n",
    "* This command don't switch from the current branch to the new one, if you want to switch, you have to run the nex command \n",
    "\n",
    "*  How does Git know what branch you’re currently on? It keeps a special pointer called HEAD. \n",
    "\n",
    "`git checkout testing` (int the new versions of git `git switch <branchname>`) -> Switch the current branch\n",
    "\n",
    "`git checkout -b <newbranchname>` (in the new versions of git `git switch -c (--create) new-branch`) -> Create a branch and switch to it at the same time\n",
    "\n",
    "\n",
    "![image.png](images/2.png)\n",
    "\n",
    "![image-2.png](images/3.png)"
   ]
  },
  {
   "cell_type": "markdown",
   "metadata": {},
   "source": [
    "### How branches works\n",
    "\n",
    "![image.png](images/4.png)\n",
    "\n",
    "If we do `git checkout marter (or main)` then:\n",
    "\n",
    "![image-2.png](images/5.png)\n",
    "\n",
    "Then, if you create a new commit the project history diverged (`git commint -m \"new commit\"`)\n",
    "\n",
    "![image-3.png](images/6.png)\n",
    "\n",
    "We can print the history of our commits\n",
    "\n",
    "`git log --oneline --decorate --graph -all`"
   ]
  },
  {
   "cell_type": "markdown",
   "metadata": {},
   "source": [
    "##  Basic Branching and Merging (A real history)"
   ]
  },
  {
   "cell_type": "markdown",
   "metadata": {},
   "source": [
    " Let’s go through a simple example of branching and merging with a workflow that you might use in\n",
    " the real world. You’ll follow these steps:\n",
    " 1. Do some work on a website.\n",
    " 2. Create a branch for a new user story you’re working on.\n",
    " 3. Do some work in that branch.\n",
    " At this stage, you’ll receive a call that another issue is critical and you need a hotfix. You’ll do the\n",
    " following:\n",
    " 1. Switch to your production branch.\n",
    " 2. Create a branch to add the hotfix.\n",
    " 3. After it’s tested, merge the hotfix branch, and push to production.\n",
    " 4. Switch back to your original user story and continue working"
   ]
  },
  {
   "cell_type": "markdown",
   "metadata": {},
   "source": [
    "#### We are normally working in our project"
   ]
  },
  {
   "cell_type": "markdown",
   "metadata": {},
   "source": [
    "\n",
    "![image.png](images/7.png)\n",
    "\n",
    "Firstly we run `git checkout -b issue53` (i.e `git switch -c (--create) issue53`) -> We have created a new branch called issue53 to try to solve a promblem in the producction branch (master).\n",
    "\n",
    "![image.png](images/8.png)\n",
    "\n",
    "Secondly, in this new branch we are gonna do a change and commit it:\n",
    "\n",
    "- `echo \"new file content\" > new_file.txt`\n",
    "- `git add new_file.txt`\n",
    "- `git commit -m \"adding the missing file [issue53]\"`\n",
    "\n",
    "The short way is:\n",
    "\n",
    "- `git commit -a -m \"adding the missing file [issue53]\"`\n",
    "\n",
    "![image-2.png](images/9.png)"
   ]
  },
  {
   "cell_type": "markdown",
   "metadata": {},
   "source": [
    "#### Suddenly a hot problem occurs"
   ]
  },
  {
   "cell_type": "markdown",
   "metadata": {},
   "source": [
    "We come back to the master (or main) branch:\n",
    "\n",
    "- `git checkout marter` (`git switch master`)\n",
    "\n",
    "Then we create a new branch to fix the hot-issue \n",
    "\n",
    "- `git checkout -b hotfix` (`git switch -c (--create) fixhot`)\n",
    "\n",
    "We fix the problem:\n",
    "\n",
    "- editing `echo file_name.py` (for example)\n",
    "- `git commit -a -m \"hotfix done\"`\n",
    "\n",
    "![image.png](images/10.png)\n",
    "\n",
    "When we have finished, we have to merge hotfix branch with our master branch\n",
    "\n",
    "- We come back to master `git checkout master`\n",
    "- We merge with hotfix ` git merge hotfix`\n",
    "\n",
    "![image-2.png](images/11.png)\n",
    "\n",
    "We can delete the hotfix branch:\n",
    "\n",
    "- `git branch -d hotfix`\n",
    "\n",
    "We can continious with our current work\n",
    "\n",
    "- `git checkout issue53`\n",
    "\n",
    "![image.png](images/12.png)\n",
    "\n"
   ]
  },
  {
   "cell_type": "markdown",
   "metadata": {},
   "source": [
    "### Merge Tool"
   ]
  },
  {
   "cell_type": "markdown",
   "metadata": {},
   "source": [
    "If when you are merging and there are conflicts because the two branch came from diferents parents, then you have to solve the conflicts.\n",
    "\n",
    "You can solve it ussing a graphical tool running: \n",
    "\n",
    "`git mergetool`"
   ]
  }
 ],
 "metadata": {
  "kernelspec": {
   "display_name": "Python 3",
   "language": "python",
   "name": "python3"
  },
  "language_info": {
   "codemirror_mode": {
    "name": "ipython",
    "version": 3
   },
   "file_extension": ".py",
   "mimetype": "text/x-python",
   "name": "python",
   "nbconvert_exporter": "python",
   "pygments_lexer": "ipython3",
   "version": "3.11.9"
  }
 },
 "nbformat": 4,
 "nbformat_minor": 2
}
